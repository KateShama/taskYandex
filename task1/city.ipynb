{
 "cells": [
  {
   "cell_type": "code",
   "execution_count": 4,
   "id": "f983635b",
   "metadata": {},
   "outputs": [],
   "source": [
    "import json\n",
    "import random\n"
   ]
  },
  {
   "cell_type": "code",
   "execution_count": 5,
   "id": "d658e945",
   "metadata": {},
   "outputs": [],
   "source": [
    "class CityPicker:\n",
    "    def __init__(self, file_path):\n",
    "        self.file_path = file_path\n",
    "        self.cities = []\n",
    "        self.load_cities()\n",
    "\n",
    "    def load_cities(self):\n",
    "        with open(self.file_path, 'r') as file:\n",
    "            data = json.load(file)\n",
    "            for city_data in data:\n",
    "                name = city_data.get('name')\n",
    "                population = city_data.get('population')\n",
    "                if name and population:\n",
    "                    self.cities.append((name, population))\n",
    "\n",
    "    def get_random_city(self):\n",
    "        total_population = sum(city[1] for city in self.cities)\n",
    "        random_value = random.random() * total_population\n",
    "        population_sum = 0\n",
    "        for city in self.cities:\n",
    "            population_sum += city[1]\n",
    "            if population_sum >= random_value:\n",
    "                return city[0]\n"
   ]
  },
  {
   "cell_type": "code",
   "execution_count": null,
   "id": "3d137106",
   "metadata": {},
   "outputs": [],
   "source": []
  },
  {
   "cell_type": "code",
   "execution_count": null,
   "id": "824217fd",
   "metadata": {},
   "outputs": [],
   "source": []
  },
  {
   "cell_type": "code",
   "execution_count": null,
   "id": "0236dda7",
   "metadata": {},
   "outputs": [],
   "source": []
  },
  {
   "cell_type": "code",
   "execution_count": null,
   "id": "644f7a5f",
   "metadata": {},
   "outputs": [],
   "source": []
  }
 ],
 "metadata": {
  "kernelspec": {
   "display_name": "Python 3 (ipykernel)",
   "language": "python",
   "name": "python3"
  },
  "language_info": {
   "codemirror_mode": {
    "name": "ipython",
    "version": 3
   },
   "file_extension": ".py",
   "mimetype": "text/x-python",
   "name": "python",
   "nbconvert_exporter": "python",
   "pygments_lexer": "ipython3",
   "version": "3.9.12"
  }
 },
 "nbformat": 4,
 "nbformat_minor": 5
}
